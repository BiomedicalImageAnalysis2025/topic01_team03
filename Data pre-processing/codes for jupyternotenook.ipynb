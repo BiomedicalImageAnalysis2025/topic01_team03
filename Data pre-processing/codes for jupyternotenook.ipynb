{
 "cells": [
  {
   "cell_type": "markdown",
   "id": "43dd716f",
   "metadata": {},
   "source": [
    "die ersten 2 blocks kannst du weglassen\n"
   ]
  },
  {
   "cell_type": "code",
   "execution_count": null,
   "id": "39e353a8",
   "metadata": {},
   "outputs": [],
   "source": [
    "import os\n",
    "from skimage.io import imread\n",
    "from glob import glob\n",
    "import sys\n",
    "\n",
    "# Current folder as project_root\n",
    "# Going three layers of folders upwards to src\n",
    "project_root = os.path.abspath(os.path.join(os.getcwd(), \"..\"))\n",
    "src_dir      = os.path.join(project_root)\n",
    "\n",
    "# Add the src directory to the Python module search path\n",
    "if src_dir not in sys.path:\n",
    "    sys.path.insert(0, src_dir)\n",
    "\n",
    "# Import functions for loading images\n",
    "from src.imread_all import load_nih3t3_images, load_n2dl_hela_images, load_n2dh_gowt1_images\n",
    "\n",
    "\n",
    "# Load images and ground-truth masks from the datasets\n",
    "imgs_N2DH_GOWT1, gts_N2DH_GOWT1, img_paths_N2DH_GOWT1, gt_paths_N2DH_GOWT1 = load_n2dh_gowt1_images()\n",
    "imgs_N2DL_HeLa, gts_N2DL_HeLa, img_paths_N2DL_HeLa, gt_paths_N2DL_HeLa = load_n2dl_hela_images()\n",
    "imgs_NIH3T3, gts_NIH3T3, img_paths_NIH3T3, gt_paths_NIH3T3 = load_nih3t3_images()\n",
    "\n"
   ]
  },
  {
   "cell_type": "code",
   "execution_count": null,
   "id": "677ba44b",
   "metadata": {},
   "outputs": [],
   "source": [
    "from src.Dice_Score_comparison import calculate_dice_scores_global\n",
    "\n",
    "# Compute Dice scores for each dataset\n",
    "dice_all_gowt1_global = calculate_dice_scores_global(imgs_N2DH_GOWT1, gts_N2DH_GOWT1)\n",
    "dice_all_hela_global = calculate_dice_scores_global(imgs_N2DL_HeLa, gts_N2DL_HeLa)\n",
    "dice_all_nih_global = calculate_dice_scores_global(imgs_NIH3T3, gts_NIH3T3)\n",
    "\n",
    "# Convert numpy floats to plain Python floats for clearer output\n",
    "dice_all_gowt1_global = [float(score) for score in dice_all_gowt1_global]\n",
    "dice_all_hela_global = [float(score) for score in dice_all_hela_global]\n",
    "dice_all_nih_global = [float(score) for score in dice_all_nih_global]\n",
    "\n",
    "# vector with all Dice scores with our Otsu Global\n",
    "dice_all_global = dice_all_gowt1_global + dice_all_hela_global + dice_all_nih_global"
   ]
  },
  {
   "cell_type": "code",
   "execution_count": null,
   "id": "446de9da",
   "metadata": {},
   "outputs": [],
   "source": [
    "# import function for gamma correction + global otsu thresholding + dice score calculation\n",
    "from src.Dice_Score_comparison import calculate_dice_scores_gamma_global\n",
    "\n",
    "# apply gamma correction and global otsu thresholding on all images and calculate dice scores of each dataset \n",
    "dice_scores_NIH3T3_gamma_global = calculate_dice_scores_gamma_global(imgs=imgs_NIH3T3, gts=gts_NIH3T3)\n",
    "dice_scores_N2DL_HeLa_gamma_global = calculate_dice_scores_gamma_global(imgs=imgs_N2DL_HeLa, gts=gts_N2DL_HeLa)\n",
    "dice_scores_N2DH_GOWT1_gamma_global = calculate_dice_scores_gamma_global(imgs=imgs_N2DH_GOWT1, gts=gts_N2DH_GOWT1)\n",
    "\n",
    "# vector with all dice score of gamma correction + global otsu thresholding\n",
    "all_dice_scores_gamma_global =  dice_scores_N2DH_GOWT1_gamma_global + dice_scores_N2DL_HeLa_gamma_global + dice_scores_NIH3T3_gamma_global \n",
    "\n"
   ]
  },
  {
   "cell_type": "code",
   "execution_count": null,
   "id": "59a60711",
   "metadata": {},
   "outputs": [],
   "source": [
    "from src.Plots import plot_pairwise_scores\n",
    "\n",
    "# Spaghetti plot gamma correction + otsu global\n",
    "# Datasets\n",
    "labels = [\n",
    "    'dna-0.png',  'dna-1.png',  'dna-26.png', 'dna-27.png',\n",
    "    'dna-28.png', 'dna-29.png', 'dna-30.png', 'dna-31.png',\n",
    "    'dna-32.png', 'dna-33.png', 'dna-37.png', 'dna-40.png',\n",
    "    'dna-42.png', 'dna-44.png', 'dna-45.png', 'dna-46.png',\n",
    "    'dna-47.png', 'dna-49.png', 't13.tif', 't52.tif', 't75.tif', 't79.tif',\n",
    "    't01.tif', 't21.tif', 't31.tif', 't39.tif', 't52.tif', 't72.tif'\n",
    "    \n",
    "]\n",
    "\n",
    "# Define indices for the labels of the later x-axis \n",
    "file_names = np.arange(len(labels))\n",
    "\n",
    "plot_pairwise_scores()"
   ]
  }
 ],
 "metadata": {
  "kernelspec": {
   "display_name": "Python 3",
   "language": "python",
   "name": "python3"
  },
  "language_info": {
   "codemirror_mode": {
    "name": "ipython",
    "version": 3
   },
   "file_extension": ".py",
   "mimetype": "text/x-python",
   "name": "python",
   "nbconvert_exporter": "python",
   "pygments_lexer": "ipython3",
   "version": "3.13.3"
  }
 },
 "nbformat": 4,
 "nbformat_minor": 5
}
