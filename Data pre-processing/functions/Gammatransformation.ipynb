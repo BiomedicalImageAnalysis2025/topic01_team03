{
 "cells": [
  {
   "cell_type": "code",
   "execution_count": null,
   "id": "30273d72",
   "metadata": {},
   "outputs": [],
   "source": [
    "import numpy as np\n",
    "\n",
    "# Gamma transformation\n",
    "def gammatransformation(image, gamma=None):\n",
    "   \"\"\"\n",
    "    Every pixel value p is transformed by p^gamma.\n",
    "\n",
    "    Parameters\n",
    "    ----------\n",
    "    parameter1 : gray level image\n",
    "        A 2D array containing all the gray levels of each pixel.\n",
    "\n",
    "    Returns \n",
    "    -------\n",
    "    new image as 2D array.\n",
    "       Each pixel value of the transformed image is result of p^gamma.\n",
    "       Result is in the range 0-1\n",
    "    \"\"\"\n",
    "   \n",
    "   \n",
    "   # Check if there are negative values in the array and if so, shift into positive range\n",
    "   if np.any(image<0):\n",
    "       image = image + abs(np.min(image))\n",
    "\n",
    "   # Scale to 0-1\n",
    "   if image.min() != 0 or image.max() != 1:\n",
    "    image = (image - image.min()) / (image.max() - image.min())\n",
    "    \n",
    "   # Define gamma based on mean illumination\n",
    "   if gamma is None:\n",
    "     if np.mean(image) > 0.5:\n",
    "        gamma = 1.5\n",
    "     else:\n",
    "       gamma = 0.1\n",
    "\n",
    "\n",
    "   # Perform gamma transformation\n",
    "   img_gamma = np.power(image, gamma)\n",
    "\n",
    "   # Scale back to 0-255 8 bit\n",
    "   img_gamma = (img_gamma * 255).astype(np.uint8)\n",
    "\n",
    "   return img_gamma"
   ]
  }
 ],
 "metadata": {
  "language_info": {
   "name": "python"
  }
 },
 "nbformat": 4,
 "nbformat_minor": 5
}
