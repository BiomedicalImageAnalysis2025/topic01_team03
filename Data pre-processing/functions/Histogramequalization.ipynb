{
 "cells": [
  {
   "cell_type": "code",
   "execution_count": null,
   "id": "294c094a",
   "metadata": {},
   "outputs": [],
   "source": [
    "import numpy as np\n",
    "\n",
    "# Histogram equalization\n",
    "def histogramequalization(image):\n",
    "   \"\"\"\n",
    "    Spreads the intensity values to the full range of 0-255.\n",
    "\n",
    "    Parameters\n",
    "    ----------\n",
    "    parameter1 : gray level image\n",
    "        A 2D array containing all the gray levels of each pixel.\n",
    "\n",
    "    Returns \n",
    "    -------\n",
    "    new image as 2D array.\n",
    "       New image uses the full range of 0-255\n",
    "    \"\"\"\n",
    "   if np.max(image) == 255 and np.min(image) == 0:\n",
    "      image_8bit = (image).astype(np.uint8)\n",
    "   else:\n",
    "      image_8bit = (((image - image.min()) / (image.max() - image.min())) * 255).astype(np.uint8)\n",
    "\n",
    "   hist, bins = np.histogram(image_8bit.flatten(), bins=256, range=[0, 256])\n",
    "  \n",
    "   cdf = hist.cumsum()\n",
    "  \n",
    "   cdf_normalized = cdf * 255 / cdf[-1] \n",
    "\n",
    "   image_eq = cdf_normalized[image_8bit]\n",
    "\n",
    "   image_eq = image_eq.astype(np.uint8)\n",
    "\n",
    "   return image_eq"
   ]
  }
 ],
 "metadata": {
  "language_info": {
   "name": "python"
  }
 },
 "nbformat": 4,
 "nbformat_minor": 5
}
