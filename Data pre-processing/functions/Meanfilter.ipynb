{
 "cells": [
  {
   "cell_type": "code",
   "execution_count": null,
   "id": "bb349c02",
   "metadata": {},
   "outputs": [],
   "source": [
    "import numpy as np\n",
    "\n",
    "# Mean filter\n",
    "def mean_filter(image, kernel_size = 15) -> np.ndarray:\n",
    "    \"\"\"\n",
    "    Apply a mean filter (box blur) to a 2D grayscale image using only NumPy.\n",
    "\n",
    "    Parameters\n",
    "    ----------\n",
    "    image : np.ndarray\n",
    "        2D array of the grayscale image.\n",
    "    kernel_size : int\n",
    "        Size of the (square) kernel; must be odd.\n",
    "\n",
    "    Returns\n",
    "    -------\n",
    "    filtered : np.ndarray\n",
    "        The blurred image, same shape as input.\n",
    "    \"\"\"\n",
    "    if kernel_size % 2 == 0:\n",
    "        raise ValueError(\"kernel_size must be odd.\")\n",
    "    pad = kernel_size // 2\n",
    "    # Spiegele die Ränder, damit wir auch am Rand filtern können\n",
    "    img_padded = np.pad(image, pad, mode='reflect')\n",
    "    H, W = image.shape\n",
    "    filtered = np.empty_like(image, dtype=float)\n",
    "\n",
    "    # Summen-Integralbild zur schnellen Fenster-Summen\n",
    "    # Integralbild hat eine zusätzliche Null-Zeile/-Spalte vorne\n",
    "    integral = np.cumsum(np.cumsum(img_padded, axis=0), axis=1)\n",
    "    # Schleife über alle Pixel\n",
    "    for i in range(H):\n",
    "     for j in range(W):\n",
    "      window = img_padded[i:i+kernel_size, j:j+kernel_size]\n",
    "      filtered[i,j] = window.sum() / (kernel_size**2)\n",
    "    return filtered"
   ]
  }
 ],
 "metadata": {
  "language_info": {
   "name": "python"
  }
 },
 "nbformat": 4,
 "nbformat_minor": 5
}
