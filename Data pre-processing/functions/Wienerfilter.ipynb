{
 "cells": [
  {
   "cell_type": "code",
   "execution_count": null,
   "id": "e4d5e682",
   "metadata": {},
   "outputs": [],
   "source": [
    "import numpy as np\n",
    "\n",
    "# Wiener filter\n",
    "def local_wiener_filter(image, window_size=201, noise_variance=None):\n",
    "    \"\"\"\n",
    "    Apply a local adaptive Wiener filter to a grayscale image.\n",
    "\n",
    "    Parameters:\n",
    "    - image: 2D numpy array of the grayscale image.\n",
    "    - window_size: size of the square window (odd integer).\n",
    "    - noise_variance: estimated variance of the noise; if None, estimate globally.\n",
    "\n",
    "    Returns:\n",
    "    - filtered: the Wiener-filtered image as a 2D numpy array.\n",
    "    \"\"\"\n",
    "    # Pad the image to handle borders\n",
    "    pad = window_size // 2\n",
    "    img_padded = np.pad(image, pad, mode='reflect')\n",
    "\n",
    "    # Estimate global noise variance if not provided\n",
    "    if noise_variance is None:\n",
    "        noise_variance = np.var(image - np.mean(image))\n",
    "\n",
    "    filtered = np.zeros_like(image)\n",
    "    # Slide window over image\n",
    "    for i in range(filtered.shape[0]):\n",
    "        for j in range(filtered.shape[1]):\n",
    "            window = img_padded[i:i+window_size, j:j+window_size]\n",
    "            local_mean = window.mean()\n",
    "            local_var = window.var()\n",
    "            # Compute Wiener filter response\n",
    "            if local_var > noise_variance:\n",
    "                filtered[i, j] = local_mean + (local_var - noise_variance) / local_var * (image[i, j] - local_mean)\n",
    "            else:\n",
    "                filtered[i, j] = local_mean\n",
    "\n",
    "    f = filtered\n",
    "    f_norm = (f - f.min()) / (f.max() - f.min())\n",
    "    filtered = f_norm\n",
    "    return filtered"
   ]
  }
 ],
 "metadata": {
  "language_info": {
   "name": "python"
  }
 },
 "nbformat": 4,
 "nbformat_minor": 5
}
