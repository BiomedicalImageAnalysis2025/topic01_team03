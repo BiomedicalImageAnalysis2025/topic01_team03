{
 "cells": [
  {
   "cell_type": "code",
   "execution_count": 1,
   "id": "d52a0f1e",
   "metadata": {},
   "outputs": [],
   "source": [
    "import numpy as np\n",
    "import os\n",
    "from skimage.io import imread\n",
    "from glob import glob\n",
    "import sys\n",
    "\n",
    "\n",
    "# Current folder as project_root\n",
    "# Going three layers of folders upwards to src\n",
    "project_root = os.path.abspath(os.path.join(os.getcwd(), \"..\"))\n",
    "src_dir      = os.path.join(project_root)\n",
    "\n",
    "# Add the src directory to the Python module search path\n",
    "if src_dir not in sys.path:\n",
    "    sys.path.insert(0, src_dir)\n",
    "\n",
    "# Import functions for loading images\n",
    "from src.imread_all import load_nih3t3_images, load_n2dl_hela_images, load_n2dh_gowt1_images\n",
    "\n",
    "\n",
    "# Load images and ground-truth masks from the datasets\n",
    "imgs_N2DH_GOWT1, gts_N2DH_GOWT1, img_paths_N2DH_GOWT1, gt_paths_N2DH_GOWT1 = load_n2dh_gowt1_images(base_path=os.path.join(project_root, \"data-git\", \"N2DH-GOWT1\"))\n",
    "imgs_N2DL_HeLa, gts_N2DL_HeLa, img_paths_N2DL_HeLa, gt_paths_N2DL_HeLa = load_n2dl_hela_images(base_path=os.path.join(project_root, \"data-git\", \"N2DL-HeLa\"))\n",
    "imgs_NIH3T3, gts_NIH3T3, img_paths_NIH3T3, gt_paths_NIH3T3 = load_nih3t3_images(base_path=os.path.join(project_root, \"data-git\", \"NIH3T3\"))\n",
    "\n"
   ]
  },
  {
   "cell_type": "code",
   "execution_count": null,
   "id": "0012ddbc",
   "metadata": {},
   "outputs": [],
   "source": [
    "from src.Dice_Score_comparison import calculate_dice_scores_wienerfilter_global\n",
    "\n",
    "# apply wiener filter and global otsu thresholding on all images and calculate dice scores of each dataset \n",
    "dice_scores_NIH3T3_wienerfilter_global = calculate_dice_scores_wienerfilter_global(imgs_NIH3T3, gts_NIH3T3)\n",
    "dice_scores_N2DL_HeLa_wienerfilter_global = calculate_dice_scores_wienerfilter_global(imgs_N2DL_HeLa, gts_N2DL_HeLa)\n",
    "dice_scores_N2DH_GOWT1_wienerfilter_global = calculate_dice_scores_wienerfilter_global(imgs_N2DH_GOWT1, gts_N2DH_GOWT1)\n",
    "\n",
    "# vector with all dice score of wiener filter + global otsu thresholding\n",
    "all_dice_scores_wienerfilter_global =  dice_scores_N2DH_GOWT1_wienerfilter_global + dice_scores_N2DL_HeLa_wienerfilter_global + dice_scores_NIH3T3_wienerfilter_global\n",
    "\n",
    "# save the output\n",
    "np.save(os.path.join(project_root, \"output\", \"all_dice_scores_wienerfilter\"))"
   ]
  }
 ],
 "metadata": {
  "kernelspec": {
   "display_name": "Python 3",
   "language": "python",
   "name": "python3"
  },
  "language_info": {
   "codemirror_mode": {
    "name": "ipython",
    "version": 3
   },
   "file_extension": ".py",
   "mimetype": "text/x-python",
   "name": "python",
   "nbconvert_exporter": "python",
   "pygments_lexer": "ipython3",
   "version": "3.13.3"
  }
 },
 "nbformat": 4,
 "nbformat_minor": 5
}
