{
 "cells": [
  {
   "cell_type": "code",
   "execution_count": 1,
   "id": "cf094d0d",
   "metadata": {},
   "outputs": [],
   "source": [
    "import numpy as np\n",
    "import matplotlib.pyplot as plt\n",
    "from skimage import io, img_as_ubyte\n",
    "from skimage.filters import threshold_otsu, threshold_local\n",
    "from src.find_image import find_and_load_image\n",
    "from src.Otsu_Local import local_otsu\n",
    "\n",
    "\n",
    "def dice_score(mask, gt):\n",
    "    \"\"\"Berechnet den Dice-Koeffizienten zweier Bool-Arrays.\"\"\"\n",
    "    inter = np.logical_and(mask, gt).sum()\n",
    "    return 2 * inter / (mask.sum() + gt.sum())\n",
    "\n",
    "img = find_and_load_image(\"t01.tif\", as_gray=True)\n",
    "gt   = find_and_load_image(\"man_seg01.tif\",   as_gray=True) > 0\n",
    "\n",
    "mask_gt = gt > 0\n",
    "\n",
    "# 3) In uint8 (0–255) umwandeln für Otsu\n",
    "img_u8 = img_as_ubyte(img)\n",
    "\n",
    "# take a really small sample for less computational load first 50 rows and columns\n",
    "img_mini = img_u8[1:501, 1:501]\n",
    "\n"
   ]
  },
  {
   "cell_type": "code",
   "execution_count": 2,
   "id": "60662e71",
   "metadata": {},
   "outputs": [
    {
     "name": "stdout",
     "output_type": "stream",
     "text": [
      "Processing row 1/500...\n"
     ]
    },
    {
     "name": "stderr",
     "output_type": "stream",
     "text": [
      "/Users/mariusmander/Documents/Bioinfo Projekt/GitHub/topic01_team03/src/Complete_Otsu_Global.py:26: RuntimeWarning: invalid value encountered in divide\n",
      "  image_scaled = (image - img_min) / (img_max - img_min) * 255\n",
      "/Users/mariusmander/Documents/Bioinfo Projekt/GitHub/topic01_team03/src/Complete_Otsu_Global.py:61: RuntimeWarning: invalid value encountered in divide\n",
      "  p = hist / hist.sum()\n"
     ]
    },
    {
     "name": "stdout",
     "output_type": "stream",
     "text": [
      "Processing row 51/500...\n",
      "Processing row 101/500...\n",
      "Processing row 151/500...\n",
      "Processing row 201/500...\n",
      "Processing row 251/500...\n",
      "Processing row 301/500...\n",
      "Processing row 351/500...\n",
      "Processing row 401/500...\n",
      "Processing row 451/500...\n",
      "Processing row 500/500...\n",
      "OUR mean of threshold map: 0.2646\n"
     ]
    }
   ],
   "source": [
    "# Dice score with our Otsu local\n",
    "\n",
    "t_map_our = local_otsu(img_mini, radius=3)\n",
    "mask_local_our = img_mini > t_map_our\n",
    "mean_our = np.mean(mask_local_our)\n",
    "print(f\"OUR mean of threshold map: {mean_our:.4f}\")"
   ]
  },
  {
   "cell_type": "code",
   "execution_count": 3,
   "id": "c8d56650",
   "metadata": {},
   "outputs": [
    {
     "name": "stdout",
     "output_type": "stream",
     "text": [
      "Our Fast Local Otsu: 0.2646\n"
     ]
    }
   ],
   "source": [
    "# Dice score with fast local Otsu implementation (similar to our otsu local)\n",
    "\n",
    "from src.Otsu_Local import local_otsu_fast\n",
    "t_map_fast = local_otsu_fast(img_mini, radius=3)\n",
    "mask_local_fast = img_mini > t_map_fast\n",
    "mean_fast = np.mean(mask_local_fast)\n",
    "print(f\"Our Fast Local Otsu: {mean_fast:.4f}\")"
   ]
  }
 ],
 "metadata": {
  "kernelspec": {
   "display_name": "Python 3",
   "language": "python",
   "name": "python3"
  },
  "language_info": {
   "codemirror_mode": {
    "name": "ipython",
    "version": 3
   },
   "file_extension": ".py",
   "mimetype": "text/x-python",
   "name": "python",
   "nbconvert_exporter": "python",
   "pygments_lexer": "ipython3",
   "version": "3.13.3"
  }
 },
 "nbformat": 4,
 "nbformat_minor": 5
}
