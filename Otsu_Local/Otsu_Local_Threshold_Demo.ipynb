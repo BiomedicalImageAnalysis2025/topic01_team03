{
 "cells": [
  {
   "cell_type": "code",
   "execution_count": 3,
   "id": "c448e6f8",
   "metadata": {},
   "outputs": [
    {
     "name": "stdout",
     "output_type": "stream",
     "text": [
      "Working Directory: /Users/leomueller-deahna/Documents/Studium/Uni Heidelberg/3.-4. Semester/Bioinformatik/Data Analysis/topic01_team03/Otsu Local\n"
     ]
    },
    {
     "ename": "ModuleNotFoundError",
     "evalue": "No module named 'otsu_local'",
     "output_type": "error",
     "traceback": [
      "\u001b[31m---------------------------------------------------------------------------\u001b[39m",
      "\u001b[31mModuleNotFoundError\u001b[39m                       Traceback (most recent call last)",
      "\u001b[36mCell\u001b[39m\u001b[36m \u001b[39m\u001b[32mIn[3]\u001b[39m\u001b[32m, line 16\u001b[39m\n\u001b[32m     13\u001b[39m     sys.path.insert(\u001b[32m0\u001b[39m, src_dir)\n\u001b[32m     15\u001b[39m \u001b[38;5;66;03m# Importiere die Funktion aus deinem Modul\u001b[39;00m\n\u001b[32m---> \u001b[39m\u001b[32m16\u001b[39m \u001b[38;5;28;01mfrom\u001b[39;00m\u001b[38;5;250m \u001b[39m\u001b[34;01motsu_local\u001b[39;00m\u001b[38;5;250m \u001b[39m\u001b[38;5;28;01mimport\u001b[39;00m otsu_threshold\n\u001b[32m     18\u001b[39m \u001b[38;5;66;03m# Output-Verzeichnis erstellen\u001b[39;00m\n\u001b[32m     19\u001b[39m output_dir = os.path.join(project_root, \u001b[33m\"\u001b[39m\u001b[33moutput\u001b[39m\u001b[33m\"\u001b[39m)\n",
      "\u001b[31mModuleNotFoundError\u001b[39m: No module named 'otsu_local'"
     ]
    }
   ],
   "source": [
    "import os\n",
    "import sys\n",
    "import numpy as np\n",
    "from PIL import Image\n",
    "import matplotlib.pyplot as plt\n",
    "\n",
    "print(\"Working Directory:\", os.getcwd())\n",
    "\n",
    "# Projektstruktur festlegen\n",
    "project_root = os.getcwd()\n",
    "src_dir = os.path.join(project_root, \"src\")\n",
    "if src_dir not in sys.path:\n",
    "    sys.path.insert(0, src_dir)\n",
    "\n",
    "# Importiere die Funktion aus deinem Modul\n",
    "from otsu_local import otsu_threshold\n",
    "\n",
    "# Output-Verzeichnis erstellen\n",
    "output_dir = os.path.join(project_root, \"output\")\n",
    "os.makedirs(output_dir, exist_ok=True)\n",
    "\n",
    "# Bild laden und vorbereiten\n",
    "img_path = os.path.join(project_root, \"Data\", \"N2DH-GOWT1\", \"img\", \"t01.tif\")\n",
    "pil_image = Image.open(img_path).convert(\"L\")\n",
    "img_array = np.array(pil_image)\n",
    "\n",
    "# Parameter für lokale Binarisierung\n",
    "tile_size = 64\n",
    "h, w = img_array.shape\n",
    "binary_local = np.zeros_like(img_array, dtype=bool)\n",
    "\n",
    "# Lokale Otsu-Schwelle in Tiles berechnen\n",
    "for y in range(0, h, tile_size):\n",
    "    for x in range(0, w, tile_size):\n",
    "        tile = img_array[y:y+tile_size, x:x+tile_size]\n",
    "        if tile.size == 0:\n",
    "            continue\n",
    "        t = otsu_threshold(tile)\n",
    "        binary_local[y:y+tile_size, x:x+tile_size] = tile > t\n",
    "\n",
    "# Binärbild speichern\n",
    "binary_uint8 = (binary_local.astype(np.uint8) * 255)\n",
    "output_path = os.path.join(output_dir, \"t01_binary_local.png\")\n",
    "Image.fromarray(binary_uint8).save(output_path)\n",
    "print(f\"Lokales Binärbild gespeichert unter: {output_path}\")\n",
    "\n",
    "# Visualisierung\n",
    "plt.figure(figsize=(5, 5))\n",
    "plt.imshow(binary_local, cmap=\"gray\")\n",
    "plt.title(\"Lokal binarisiertes Bild\")\n",
    "plt.axis(\"off\")\n",
    "plt.show()\n"
   ]
  }
 ],
 "metadata": {
  "kernelspec": {
   "display_name": ".venv",
   "language": "python",
   "name": "python3"
  },
  "language_info": {
   "codemirror_mode": {
    "name": "ipython",
    "version": 3
   },
   "file_extension": ".py",
   "mimetype": "text/x-python",
   "name": "python",
   "nbconvert_exporter": "python",
   "pygments_lexer": "ipython3",
   "version": "3.13.3"
  }
 },
 "nbformat": 4,
 "nbformat_minor": 5
}
