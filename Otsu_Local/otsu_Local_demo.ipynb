{
 "cells": [
  {
   "cell_type": "code",
   "execution_count": 1,
   "id": "58ec3388",
   "metadata": {},
   "outputs": [],
   "source": [
    "import numpy as np\n",
    "from pathlib import Path\n",
    "import matplotlib.pyplot as plt\n",
    "from skimage import io, img_as_ubyte\n",
    "import sys, os\n",
    "\n"
   ]
  },
  {
   "cell_type": "code",
   "execution_count": 2,
   "id": "38766fa6",
   "metadata": {},
   "outputs": [
    {
     "ename": "ModuleNotFoundError",
     "evalue": "No module named 'src'",
     "output_type": "error",
     "traceback": [
      "\u001b[31m---------------------------------------------------------------------------\u001b[39m",
      "\u001b[31mModuleNotFoundError\u001b[39m                       Traceback (most recent call last)",
      "\u001b[36mCell\u001b[39m\u001b[36m \u001b[39m\u001b[32mIn[2]\u001b[39m\u001b[32m, line 1\u001b[39m\n\u001b[32m----> \u001b[39m\u001b[32m1\u001b[39m \u001b[38;5;28;01mfrom\u001b[39;00m\u001b[38;5;250m \u001b[39m\u001b[34;01msrc\u001b[39;00m\u001b[34;01m.\u001b[39;00m\u001b[34;01mfind_image\u001b[39;00m\u001b[38;5;250m \u001b[39m\u001b[38;5;28;01mimport\u001b[39;00m load_image_gray  \u001b[38;5;66;03m# Funktion zum Laden eines Graustufenbildes\u001b[39;00m\n\u001b[32m      2\u001b[39m \u001b[38;5;28;01mfrom\u001b[39;00m\u001b[38;5;250m \u001b[39m\u001b[34;01msrc\u001b[39;00m\u001b[34;01m.\u001b[39;00m\u001b[34;01motsu_local\u001b[39;00m\u001b[38;5;250m \u001b[39m\u001b[38;5;28;01mimport\u001b[39;00m local_otsu  \u001b[38;5;66;03m# Funktion für lokalen Otsu-Schwellenwert\u001b[39;00m\n\u001b[32m      5\u001b[39m \u001b[38;5;66;03m# Bild finden und einlesen als Float[0,1]\u001b[39;00m\n",
      "\u001b[31mModuleNotFoundError\u001b[39m: No module named 'src'"
     ]
    }
   ],
   "source": [
    "from src.find_image import load_image_gray  # Funktion zum Laden eines Graustufenbildes\n",
    "from src.otsu_local import local_otsu  # Funktion für lokalen Otsu-Schwellenwert\n",
    "\n",
    "\n",
    "# Bild finden und einlesen als Float[0,1]\n",
    "image =  load_image_gray(\"dna-0.png\") # hier nur den Bild namen anpassen\n",
    "img   = img_as_ubyte(image)\n",
    "\n",
    "# Lokales Otsu (r=7 → 15×15 Fenster)\n",
    "t_map, bin_mask = local_otsu(img, radius=13)  # Radius anpassen, je nach Bildgröße und Detailgrad\n",
    "\n",
    "# Anzeigen\n",
    "fig, (ax0, ax1) = plt.subplots(1, 2, figsize=(12, 4))       \n",
    "\n",
    "ax0.imshow(img, cmap=\"gray\", interpolation=\"none\")\n",
    "ax0.set_title(\"Original (grau)\");    ax0.axis(\"off\")\n",
    "\n",
    "ax1.imshow(bin_mask, cmap=\"gray\", interpolation=\"none\")\n",
    "ax1.set_title(\"Binärmaske\");          ax1.axis(\"off\")\n",
    "\n",
    "plt.tight_layout()\n",
    "plt.show()"
   ]
  }
 ],
 "metadata": {
  "kernelspec": {
   "display_name": "Python 3",
   "language": "python",
   "name": "python3"
  },
  "language_info": {
   "codemirror_mode": {
    "name": "ipython",
    "version": 3
   },
   "file_extension": ".py",
   "mimetype": "text/x-python",
   "name": "python",
   "nbconvert_exporter": "python",
   "pygments_lexer": "ipython3",
   "version": "3.13.3"
  }
 },
 "nbformat": 4,
 "nbformat_minor": 5
}
