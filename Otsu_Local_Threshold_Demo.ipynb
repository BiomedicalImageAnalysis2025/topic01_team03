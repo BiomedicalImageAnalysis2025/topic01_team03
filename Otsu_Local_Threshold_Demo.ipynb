{
 "cells": [
  {
   "cell_type": "code",
   "execution_count": 1,
   "id": "c448e6f8",
   "metadata": {},
   "outputs": [
    {
     "name": "stdout",
     "output_type": "stream",
     "text": [
      "Lokales Binärbild gespeichert unter: c:\\Users\\victo\\SynologyDrive\\Studium\\molekulare Biotechnologie\\Heidelberg\\Bioinformatik\\Projekt\\Otsu Treshhold\\Otsu_Thresholding_LocalWork\\topic01_team03\\output\\t01_binary_local.png\n"
     ]
    },
    {
     "data": {
      "image/png": "[encoded data removed]",
      "text/plain": [
       "<Figure size 500x500 with 1 Axes>"
      ]
     },
     "metadata": {},
     "output_type": "display_data"
    }
   ],
   "source": [
    "import os\n",
    "import sys\n",
    "import numpy as np\n",
    "from PIL import Image\n",
    "import matplotlib.pyplot as plt\n",
    "\n",
    "# Projektstruktur festlegen\n",
    "project_root = os.getcwd()\n",
    "src_dir = os.path.join(project_root, \"src\")\n",
    "if src_dir not in sys.path:\n",
    "    sys.path.insert(0, src_dir)\n",
    "\n",
    "# Importiere die Funktion aus deinem Modul\n",
    "from otsu_local import otsu_threshold\n",
    "\n",
    "# Output-Verzeichnis erstellen\n",
    "output_dir = os.path.join(project_root, \"output\")\n",
    "os.makedirs(output_dir, exist_ok=True)\n",
    "\n",
    "# Bild laden und vorbereiten\n",
    "img_path = os.path.join(project_root, \"Data\", \"N2DH-GOWT1\", \"img\", \"t01.tif\")\n",
    "pil_image = Image.open(img_path).convert(\"L\")\n",
    "img_array = np.array(pil_image)\n",
    "\n",
    "# Parameter für lokale Binarisierung\n",
    "tile_size = 64\n",
    "h, w = img_array.shape\n",
    "binary_local = np.zeros_like(img_array, dtype=bool)\n",
    "\n",
    "# Lokale Otsu-Schwelle in Tiles berechnen\n",
    "for y in range(0, h, tile_size):\n",
    "    for x in range(0, w, tile_size):\n",
    "        tile = img_array[y:y+tile_size, x:x+tile_size]\n",
    "        if tile.size == 0:\n",
    "            continue\n",
    "        t = otsu_threshold(tile)\n",
    "        binary_local[y:y+tile_size, x:x+tile_size] = tile > t\n",
    "\n",
    "# Binärbild speichern\n",
    "binary_uint8 = (binary_local.astype(np.uint8) * 255)\n",
    "output_path = os.path.join(output_dir, \"t01_binary_local.png\")\n",
    "Image.fromarray(binary_uint8).save(output_path)\n",
    "print(f\"Lokales Binärbild gespeichert unter: {output_path}\")\n",
    "\n",
    "# Visualisierung\n",
    "plt.figure(figsize=(5, 5))\n",
    "plt.imshow(binary_local, cmap=\"gray\")\n",
    "plt.title(\"Lokal binarisiertes Bild\")\n",
    "plt.axis(\"off\")\n",
    "plt.show()\n"
   ]
  }
 ],
 "metadata": {
  "kernelspec": {
   "display_name": "Python 3",
   "language": "python",
   "name": "python3"
  },
  "language_info": {
   "codemirror_mode": {
    "name": "ipython",
    "version": 3
   },
   "file_extension": ".py",
   "mimetype": "text/x-python",
   "name": "python",
   "nbconvert_exporter": "python",
   "pygments_lexer": "ipython3",
   "version": "3.13.2"
  }
 },
 "nbformat": 4,
 "nbformat_minor": 5
}
