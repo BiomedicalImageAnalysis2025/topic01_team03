{
 "cells": [
  {
   "cell_type": "markdown",
   "metadata": {},
   "source": [
    "# Local Otsu Threshold Demo\n",
    "Dieses Notebook berechnet f\u00fcr ein gegebenes Grauwertbild eine lokale Otsu-Schwellenwertkarte, binarisiert das Bild in Tiles und speichert das Ergebnis."
   ]
  },
  {
   "cell_type": "code",
   "execution_count": null,
   "metadata": {},
   "outputs": [],
   "source": [
    "import os\n",
    "import sys\n",
    "import numpy as np\n",
    "from PIL import Image\n",
    "import matplotlib.pyplot as plt\n",
    "from skimage.filters import threshold_otsu\n",
    "\n",
    "# Projektstruktur festlegen\n",
    "project_root = os.getcwd()\n",
    "src_dir = os.path.join(project_root, \"src\")\n",
    "if src_dir not in sys.path:\n",
    "    sys.path.insert(0, src_dir)\n",
    "\n",
    "# Output-Verzeichnis erstellen\n",
    "output_dir = os.path.join(project_root, \"output\")\n",
    "os.makedirs(output_dir, exist_ok=True)\n",
    "\n",
    "# Bild laden und vorbereiten\n",
    "img_path = os.path.join(project_root, \"Data\", \"N2DH-GOWT1\", \"img\", \"t01.tif\")\n",
    "pil_image = Image.open(img_path).convert(\"L\")\n",
    "img_array = np.array(pil_image)\n",
    "\n",
    "# Parameter f\u00fcr lokale Binarisierung\n",
    "tile_size = 64  # Pixelgr\u00f6\u00dfe des lokalen Fensters\n",
    "h, w = img_array.shape\n",
    "binary_local = np.zeros_like(img_array, dtype=bool)\n",
    "\n",
    "# Lokale Otsu-Schwelle in Tiles berechnen\n",
    "for y in range(0, h, tile_size):\n",
    "    for x in range(0, w, tile_size):\n",
    "        tile = img_array[y:y+tile_size, x:x+tile_size]\n",
    "        if tile.size == 0:\n",
    "            continue\n",
    "        t = threshold_otsu(tile)\n",
    "        binary_local[y:y+tile_size, x:x+tile_size] = tile > t\n",
    "\n",
    "# Bin\u00e4rbild speichern\n",
    "binary_uint8 = (binary_local.astype(np.uint8) * 255)\n",
    "output_path = os.path.join(output_dir, \"t01_binary_local.png\")\n",
    "Image.fromarray(binary_uint8).save(output_path)\n",
    "print(f\"Lokales Bin\u00e4rbild gespeichert unter: {output_path}\")\n",
    "\n",
    "# Visualisierung\n",
    "plt.figure(figsize=(5,5))\n",
    "plt.imshow(binary_local, cmap=\"gray\")\n",
    "plt.title(\"Lokal binarisiertes Bild\")\n",
    "plt.axis(\"off\");"
   ]
  }
 ],
 "metadata": {
  "kernelspec": {
   "display_name": "Python 3",
   "language": "python",
   "name": "python3"
  },
  "language_info": {
   "name": "python",
   "version": "3.10"
  }
 },
 "nbformat": 4,
 "nbformat_minor": 5
}