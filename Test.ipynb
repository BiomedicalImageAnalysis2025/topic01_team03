{
 "cells": [
  {
   "cell_type": "markdown",
   "id": "307ef611",
   "metadata": {},
   "source": [
    "Packages "
   ]
  },
  {
   "cell_type": "code",
   "execution_count": null,
   "id": "03e915fd",
   "metadata": {},
   "outputs": [],
   "source": [
    "from numpy import np\n"
   ]
  }
 ],
 "metadata": {
  "kernelspec": {
   "display_name": ".venv",
   "language": "python",
   "name": "python3"
  },
  "language_info": {
   "name": "python",
   "version": "3.13.3"
  }
 },
 "nbformat": 4,
 "nbformat_minor": 5
}
