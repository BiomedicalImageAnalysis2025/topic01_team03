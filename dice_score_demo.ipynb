{
 "cells": [
  {
   "cell_type": "code",
   "execution_count": 1,
   "id": "d4ec959e",
   "metadata": {},
   "outputs": [
    {
     "name": "stdout",
     "output_type": "stream",
     "text": [
      "Dice Score: 0.2781\n"
     ]
    }
   ],
   "source": [
    "import os\n",
    "import sys\n",
    "from skimage.io import imread\n",
    "import numpy as np\n",
    "\n",
    "# Projektstruktur einrichten für Jupyter Notebook\n",
    "project_root = os.getcwd()\n",
    "src_dir = os.path.join(project_root, \"src\")\n",
    "if src_dir not in sys.path:\n",
    "    sys.path.insert(0, src_dir)\n",
    "\n",
    "# Dice Score Funktion aus src importieren\n",
    "from Dice_Score import dice_score\n",
    "\n",
    "if __name__ == \"__main__\":\n",
    "    # Bildpfade (ggf. anpassen)\n",
    "    otsu_img_path = os.path.join(project_root, \"data-git\", \"N2DH-GOWT1\", \"img\", \"t01.tif\")\n",
    "    otsu_gt_path  = os.path.join(project_root, \"data-git\", \"N2DH-GOWT1\", \"gt\", \"man_seg01.tif\")\n",
    "\n",
    "    # Bilder laden und in boolesche Arrays umwandeln\n",
    "    otsu_img = imread(otsu_img_path, as_gray=True) > 0\n",
    "    otsu_gt  = imread(otsu_gt_path, as_gray=True) > 0\n",
    "\n",
    "    # Dice Score berechnen\n",
    "    score = dice_score(otsu_img, otsu_gt)\n",
    "    print(f\"Dice Score: {score:.4f}\")\n"
   ]
  }
 ],
 "metadata": {
  "kernelspec": {
   "display_name": "Python 3",
   "language": "python",
   "name": "python3"
  },
  "language_info": {
   "codemirror_mode": {
    "name": "ipython",
    "version": 3
   },
   "file_extension": ".py",
   "mimetype": "text/x-python",
   "name": "python",
   "nbconvert_exporter": "python",
   "pygments_lexer": "ipython3",
   "version": "3.13.2"
  }
 },
 "nbformat": 4,
 "nbformat_minor": 5
}
