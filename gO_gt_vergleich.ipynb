{
 "cells": [
  {
   "cell_type": "code",
   "execution_count": 12,
   "id": "37c72397",
   "metadata": {},
   "outputs": [],
   "source": [
    "import os\n",
    "import sys\n",
    "import numpy as np\n",
    "from PIL import Image\n",
    "import matplotlib.pyplot as plt\n",
    "from glob import glob\n",
    "import csv"
   ]
  },
  {
   "cell_type": "code",
   "execution_count": 13,
   "id": "76f12c28",
   "metadata": {},
   "outputs": [],
   "source": [
    "# Projekt-Setup\n",
    "project_root = os.getcwd()\n",
    "src_dir = os.path.join(project_root, \"src\")\n",
    "if src_dir not in sys.path:\n",
    "    sys.path.insert(0, src_dir)\n"
   ]
  },
  {
   "cell_type": "code",
   "execution_count": 14,
   "id": "1a232f29",
   "metadata": {},
   "outputs": [],
   "source": [
    "# Custom-Module importieren\n",
    "from otsu_global import otsu_threshold, binarize\n",
    "from gray_hist import compute_gray_histogram\n",
    "from Dice_Score import dice_score"
   ]
  },
  {
   "cell_type": "code",
   "execution_count": 15,
   "id": "44f4fadc",
   "metadata": {},
   "outputs": [
    {
     "name": "stdout",
     "output_type": "stream",
     "text": [
      "📂 Verarbeite: N2DH-GOWT1\\img\\t01.tif\n",
      "✅ Dice Score: 0.5705\n",
      "📂 Verarbeite: N2DH-GOWT1\\img\\t21.tif\n",
      "✅ Dice Score: 0.5738\n",
      "📂 Verarbeite: N2DH-GOWT1\\img\\t31.tif\n",
      "✅ Dice Score: 0.5680\n",
      "📂 Verarbeite: N2DH-GOWT1\\img\\t39.tif\n",
      "✅ Dice Score: 0.5830\n",
      "📂 Verarbeite: N2DH-GOWT1\\img\\t52.tif\n",
      "✅ Dice Score: 0.6502\n",
      "📂 Verarbeite: N2DH-GOWT1\\img\\t72.tif\n",
      "✅ Dice Score: 0.5882\n",
      "📂 Verarbeite: N2DL-HeLa\\img\\t13.tif\n",
      "✅ Dice Score: 0.0744\n",
      "📂 Verarbeite: N2DL-HeLa\\img\\t52.tif\n",
      "✅ Dice Score: 0.1236\n",
      "📂 Verarbeite: N2DL-HeLa\\img\\t75.tif\n",
      "✅ Dice Score: 0.4032\n",
      "📂 Verarbeite: N2DL-HeLa\\img\\t79.tif\n",
      "✅ Dice Score: 0.4113\n",
      "📂 Verarbeite: NIH3T3\\img\\dna-0.png\n",
      "⚠️  Keine Ground Truth gefunden für dna-0.png\n",
      "📂 Verarbeite: NIH3T3\\img\\dna-1.png\n",
      "⚠️  Keine Ground Truth gefunden für dna-1.png\n",
      "📂 Verarbeite: NIH3T3\\img\\dna-26.png\n",
      "⚠️  Keine Ground Truth gefunden für dna-26.png\n",
      "📂 Verarbeite: NIH3T3\\img\\dna-27.png\n",
      "⚠️  Keine Ground Truth gefunden für dna-27.png\n",
      "📂 Verarbeite: NIH3T3\\img\\dna-28.png\n",
      "⚠️  Keine Ground Truth gefunden für dna-28.png\n",
      "📂 Verarbeite: NIH3T3\\img\\dna-29.png\n",
      "⚠️  Keine Ground Truth gefunden für dna-29.png\n",
      "📂 Verarbeite: NIH3T3\\img\\dna-30.png\n",
      "⚠️  Keine Ground Truth gefunden für dna-30.png\n",
      "📂 Verarbeite: NIH3T3\\img\\dna-31.png\n",
      "⚠️  Keine Ground Truth gefunden für dna-31.png\n",
      "📂 Verarbeite: NIH3T3\\img\\dna-32.png\n",
      "⚠️  Keine Ground Truth gefunden für dna-32.png\n",
      "📂 Verarbeite: NIH3T3\\img\\dna-33.png\n",
      "⚠️  Keine Ground Truth gefunden für dna-33.png\n",
      "📂 Verarbeite: NIH3T3\\img\\dna-37.png\n",
      "⚠️  Keine Ground Truth gefunden für dna-37.png\n",
      "📂 Verarbeite: NIH3T3\\img\\dna-40.png\n",
      "⚠️  Keine Ground Truth gefunden für dna-40.png\n",
      "📂 Verarbeite: NIH3T3\\img\\dna-42.png\n",
      "⚠️  Keine Ground Truth gefunden für dna-42.png\n",
      "📂 Verarbeite: NIH3T3\\img\\dna-44.png\n",
      "⚠️  Keine Ground Truth gefunden für dna-44.png\n",
      "📂 Verarbeite: NIH3T3\\img\\dna-45.png\n",
      "⚠️  Keine Ground Truth gefunden für dna-45.png\n",
      "📂 Verarbeite: NIH3T3\\img\\dna-46.png\n",
      "⚠️  Keine Ground Truth gefunden für dna-46.png\n",
      "📂 Verarbeite: NIH3T3\\img\\dna-47.png\n",
      "⚠️  Keine Ground Truth gefunden für dna-47.png\n",
      "📂 Verarbeite: NIH3T3\\img\\dna-49.png\n",
      "⚠️  Keine Ground Truth gefunden für dna-49.png\n"
     ]
    }
   ],
   "source": [
    "# Alle Bilder in allen img-Ordnern finden\n",
    "img_paths = sorted(glob(os.path.join(project_root, \"data-git\", \"**\", \"img\", \"*.*\"), recursive=True))\n",
    "\n",
    "# Ergebnisse sammeln\n",
    "dice_results = []\n",
    "\n",
    "for img_path in img_paths:\n",
    "    rel_path = os.path.relpath(img_path, start=os.path.join(project_root, \"data-git\"))\n",
    "    print(f\"📂 Verarbeite: {rel_path}\")\n",
    "\n",
    "    # Grauwertbild laden\n",
    "    img = Image.open(img_path).convert(\"L\")\n",
    "    img_array = np.array(img)\n",
    "\n",
    "    # Histogramm & Schwellenwert\n",
    "    hist, _ = compute_gray_histogram(img_array)\n",
    "    p = hist / hist.sum()\n",
    "    t = otsu_threshold(p)\n",
    "\n",
    "    # Binarisieren\n",
    "    pred = binarize(img_array, t)\n",
    "\n",
    "    # 🔍 Ground-Truth suchen\n",
    "    dataset = rel_path.split(os.sep)[0]\n",
    "    img_name = os.path.basename(img_path)\n",
    "    number = ''.join(filter(str.isdigit, img_name))  # z. B. t01.tif → 01\n",
    "    gt_name = f\"man_seg{number}.tif\"\n",
    "    gt_path = os.path.join(project_root, \"data-git\", dataset, \"gt\", gt_name)\n",
    "\n",
    "    if os.path.exists(gt_path):\n",
    "        gt = Image.open(gt_path).convert(\"L\")\n",
    "        gt_array = np.array(gt) > 0\n",
    "\n",
    "        # Dice Score berechnen\n",
    "        dice = dice_score(gt_array, pred)\n",
    "        dice_results.append((rel_path, dice))\n",
    "        print(f\"✅ Dice Score: {dice:.4f}\")\n",
    "    else:\n",
    "        print(f\"⚠️  Keine Ground Truth gefunden für {img_name}\")\n",
    "        dice_results.append((rel_path, None))\n"
   ]
  },
  {
   "cell_type": "code",
   "execution_count": 16,
   "id": "1a6777ce",
   "metadata": {},
   "outputs": [
    {
     "name": "stdout",
     "output_type": "stream",
     "text": [
      "\n",
      "✅ Ergebnisse gespeichert unter: c:\\Users\\victo\\SynologyDrive\\Studium\\molekulare Biotechnologie\\Heidelberg\\Bioinformatik\\Projekt\\Otsu Treshhold\\Otsu_Thresholding_LocalWork\\topic01_team03\\output\\dice_scores.csv\n"
     ]
    }
   ],
   "source": [
    "# 📄 CSV exportieren\n",
    "csv_path = os.path.join(project_root, \"output\", \"dice_scores.csv\")\n",
    "os.makedirs(os.path.dirname(csv_path), exist_ok=True)\n",
    "with open(csv_path, \"w\", newline=\"\", encoding=\"utf-8\") as f:\n",
    "    writer = csv.writer(f, delimiter=';')\n",
    "    writer.writerow([\"Bild\", \"DiceScore\"])\n",
    "    for path, score in dice_results:\n",
    "        writer.writerow([path, score if score is not None else \"NA\"])\n",
    "\n",
    "print(f\"\\n✅ Ergebnisse gespeichert unter: {csv_path}\")"
   ]
  }
 ],
 "metadata": {
  "kernelspec": {
   "display_name": "Python 3",
   "language": "python",
   "name": "python3"
  },
  "language_info": {
   "codemirror_mode": {
    "name": "ipython",
    "version": 3
   },
   "file_extension": ".py",
   "mimetype": "text/x-python",
   "name": "python",
   "nbconvert_exporter": "python",
   "pygments_lexer": "ipython3",
   "version": "3.13.2"
  }
 },
 "nbformat": 4,
 "nbformat_minor": 5
}
