{
 "cells": [
  {
   "cell_type": "code",
   "execution_count": null,
   "id": "f104dd86",
   "metadata": {},
   "outputs": [],
   "source": [
    "import numpy as np\n",
    "import matplotlib.pyplot as plt\n",
    "from matplotlib.image import imread\n",
    "\n",
    "img = imread(\"t13.tif\")\n",
    "\n",
    "max = np.max(img)\n",
    "\n",
    "img_prescaled = (img/max) * 255\n",
    "img_scaled = np.clip(img_prescaled, 0, 255).astype(np.uint8)\n",
    "\n",
    "\n",
    "grayvalue_img_scaled = img_scaled.flatten()\n",
    "\n",
    "plt.figure(figsize=(8, 4))\n",
    "plt.hist(grayvalue_img_scaled, bins=200, range=(0, 255), color=\"gray\", edgecolor=\"black\")\n",
    "plt.title(\"Grayvalue histogramm of img_scaled\")\n",
    "plt.xlabel(\"gray value\")\n",
    "plt.ylabel(\"counts\")\n",
    "plt.grid(True)\n",
    "plt.show()"
   ]
  }
 ],
 "metadata": {
  "language_info": {
   "name": "python"
  }
 },
 "nbformat": 4,
 "nbformat_minor": 5
}
