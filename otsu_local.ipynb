{
 "cells": [
  {
   "cell_type": "code",
   "execution_count": 20,
   "id": "af2cc4b5",
   "metadata": {},
   "outputs": [
    {
     "ename": "ValueError",
     "evalue": "<COMPRESSION.LZW: 5> requires the 'imagecodecs' package",
     "output_type": "error",
     "traceback": [
      "\u001b[31m---------------------------------------------------------------------------\u001b[39m",
      "\u001b[31mValueError\u001b[39m                                Traceback (most recent call last)",
      "\u001b[32m/var/folders/wd/pl9k9xs93l9bzvhwc5zs9b4m0000gn/T/ipykernel_54052/1739917831.py\u001b[39m in \u001b[36m?\u001b[39m\u001b[34m()\u001b[39m\n\u001b[32m      7\u001b[39m \u001b[38;5;28;01mfrom\u001b[39;00m skimage.morphology \u001b[38;5;28;01mimport\u001b[39;00m disk\n\u001b[32m      8\u001b[39m \u001b[38;5;28;01mfrom\u001b[39;00m src.image_find \u001b[38;5;28;01mimport\u001b[39;00m load_image_gray\n\u001b[32m      9\u001b[39m \n\u001b[32m     10\u001b[39m \u001b[38;5;66;03m# 2) Bild laden (als Float [0,1]) und in uint8 (0–255) umwandeln:\u001b[39;00m\n\u001b[32m---> \u001b[39m\u001b[32m11\u001b[39m image =  load_image_gray(\u001b[33m\"t75.tif\"\u001b[39m)\n\u001b[32m     12\u001b[39m image_u8   = img_as_ubyte(image)\n\u001b[32m     13\u001b[39m \n\u001b[32m     14\u001b[39m \u001b[38;5;66;03m# 3) Lokalen Otsu‐Filter aus skimage.filters.rank importieren\u001b[39;00m\n",
      "\u001b[32m~/Documents/Studium/Uni Heidelberg/3.-4. Semester/Bioinformatik/Data Analysis/topic01_team03/src/image_find.py\u001b[39m in \u001b[36m?\u001b[39m\u001b[34m(filename, root_folder, as_gray)\u001b[39m\n\u001b[32m     25\u001b[39m     Returns:\n\u001b[32m     26\u001b[39m         image_array: \u001b[32m2\u001b[39mD-NumPy-Array mit den Grauwerten\n\u001b[32m     27\u001b[39m     \"\"\"\n\u001b[32m     28\u001b[39m     path = find_image_path(root_folder, filename)\n\u001b[32m---> \u001b[39m\u001b[32m29\u001b[39m     \u001b[38;5;28;01mreturn\u001b[39;00m io.imread(path, as_gray=as_gray)\n",
      "\u001b[32m~/Documents/Studium/Uni Heidelberg/3.-4. Semester/Bioinformatik/Data Analysis/topic01_team03/.venv/lib/python3.13/site-packages/skimage/_shared/utils.py\u001b[39m in \u001b[36m?\u001b[39m\u001b[34m(*args, **kwargs)\u001b[39m\n\u001b[32m    324\u001b[39m                 \u001b[38;5;28;01melif\u001b[39;00m self.new_name \u001b[38;5;28;01mis\u001b[39;00m \u001b[38;5;28;01mnot\u001b[39;00m \u001b[38;5;28;01mNone\u001b[39;00m:\n\u001b[32m    325\u001b[39m                     \u001b[38;5;66;03m# Assign old value to new one\u001b[39;00m\n\u001b[32m    326\u001b[39m                     kwargs[self.new_name] = deprecated_value\n\u001b[32m    327\u001b[39m \n\u001b[32m--> \u001b[39m\u001b[32m328\u001b[39m             \u001b[38;5;28;01mreturn\u001b[39;00m func(*args, **kwargs)\n",
      "\u001b[32m~/Documents/Studium/Uni Heidelberg/3.-4. Semester/Bioinformatik/Data Analysis/topic01_team03/.venv/lib/python3.13/site-packages/skimage/io/_io.py\u001b[39m in \u001b[36m?\u001b[39m\u001b[34m(fname, as_gray, plugin, **plugin_args)\u001b[39m\n\u001b[32m     78\u001b[39m         \u001b[38;5;28;01mif\u001b[39;00m fname.lower().endswith((\u001b[33m'.tiff'\u001b[39m, \u001b[33m'.tif'\u001b[39m)):\n\u001b[32m     79\u001b[39m             plugin = \u001b[33m'tifffile'\u001b[39m\n\u001b[32m     80\u001b[39m \n\u001b[32m     81\u001b[39m     \u001b[38;5;28;01mwith\u001b[39;00m file_or_url_context(fname) \u001b[38;5;28;01mas\u001b[39;00m fname, _hide_plugin_deprecation_warnings():\n\u001b[32m---> \u001b[39m\u001b[32m82\u001b[39m         img = call_plugin(\u001b[33m'imread'\u001b[39m, fname, plugin=plugin, **plugin_args)\n\u001b[32m     83\u001b[39m \n\u001b[32m     84\u001b[39m     \u001b[38;5;28;01mif\u001b[39;00m \u001b[38;5;28;01mnot\u001b[39;00m hasattr(img, \u001b[33m'ndim'\u001b[39m):\n\u001b[32m     85\u001b[39m         \u001b[38;5;28;01mreturn\u001b[39;00m img\n",
      "\u001b[32m~/Documents/Studium/Uni Heidelberg/3.-4. Semester/Bioinformatik/Data Analysis/topic01_team03/.venv/lib/python3.13/site-packages/skimage/_shared/utils.py\u001b[39m in \u001b[36m?\u001b[39m\u001b[34m(*args, **kwargs)\u001b[39m\n\u001b[32m    534\u001b[39m         @functools.wraps(func)\n\u001b[32m    535\u001b[39m         \u001b[38;5;28;01mdef\u001b[39;00m wrapped(*args, **kwargs):\n\u001b[32m    536\u001b[39m             stacklevel = \u001b[32m1\u001b[39m + self.get_stack_length(func) - stack_rank\n\u001b[32m    537\u001b[39m             warnings.warn(message, category=FutureWarning, stacklevel=stacklevel)\n\u001b[32m--> \u001b[39m\u001b[32m538\u001b[39m             \u001b[38;5;28;01mreturn\u001b[39;00m func(*args, **kwargs)\n",
      "\u001b[32m~/Documents/Studium/Uni Heidelberg/3.-4. Semester/Bioinformatik/Data Analysis/topic01_team03/.venv/lib/python3.13/site-packages/skimage/io/manage_plugins.py\u001b[39m in \u001b[36m?\u001b[39m\u001b[34m(kind, *args, **kwargs)\u001b[39m\n\u001b[32m    250\u001b[39m             func = [f \u001b[38;5;28;01mfor\u001b[39;00m (p, f) \u001b[38;5;28;01min\u001b[39;00m plugin_funcs \u001b[38;5;28;01mif\u001b[39;00m p == plugin][\u001b[32m0\u001b[39m]\n\u001b[32m    251\u001b[39m         \u001b[38;5;28;01mexcept\u001b[39;00m IndexError:\n\u001b[32m    252\u001b[39m             \u001b[38;5;28;01mraise\u001b[39;00m RuntimeError(f'Could not find the plugin \"{plugin}\" for {kind}.')\n\u001b[32m    253\u001b[39m \n\u001b[32m--> \u001b[39m\u001b[32m254\u001b[39m     \u001b[38;5;28;01mreturn\u001b[39;00m func(*args, **kwargs)\n",
      "\u001b[32m~/Documents/Studium/Uni Heidelberg/3.-4. Semester/Bioinformatik/Data Analysis/topic01_team03/.venv/lib/python3.13/site-packages/skimage/io/_plugins/tifffile_plugin.py\u001b[39m in \u001b[36m?\u001b[39m\u001b[34m(fname, **kwargs)\u001b[39m\n\u001b[32m     70\u001b[39m     \"\"\"\n\u001b[32m     71\u001b[39m     \u001b[38;5;28;01mif\u001b[39;00m \u001b[33m'img_num'\u001b[39m \u001b[38;5;28;01min\u001b[39;00m kwargs:\n\u001b[32m     72\u001b[39m         kwargs[\u001b[33m'key'\u001b[39m] = kwargs.pop(\u001b[33m'img_num'\u001b[39m)\n\u001b[32m     73\u001b[39m \n\u001b[32m---> \u001b[39m\u001b[32m74\u001b[39m     \u001b[38;5;28;01mreturn\u001b[39;00m tifffile_imread(fname, **kwargs)\n",
      "\u001b[32m~/Documents/Studium/Uni Heidelberg/3.-4. Semester/Bioinformatik/Data Analysis/topic01_team03/.venv/lib/python3.13/site-packages/tifffile/tifffile.py\u001b[39m in \u001b[36m?\u001b[39m\u001b[34m(files, selection, aszarr, key, series, level, squeeze, maxworkers, buffersize, mode, name, offset, size, pattern, axesorder, categories, imread, imreadargs, sort, container, chunkshape, chunkdtype, axestiled, ioworkers, chunkmode, fillvalue, zattrs, multiscales, omexml, out, out_inplace, _multifile, _useframes, **kwargs)\u001b[39m\n\u001b[32m   1230\u001b[39m \n\u001b[32m   1231\u001b[39m                     \u001b[38;5;28;01mfrom\u001b[39;00m .zarr \u001b[38;5;28;01mimport\u001b[39;00m zarr_selection\n\u001b[32m   1232\u001b[39m \n\u001b[32m   1233\u001b[39m                     \u001b[38;5;28;01mreturn\u001b[39;00m zarr_selection(store, selection, out=out)\n\u001b[32m-> \u001b[39m\u001b[32m1234\u001b[39m                 return tif.asarray(\n\u001b[32m   1235\u001b[39m                     key=key,\n\u001b[32m   1236\u001b[39m                     series=series,\n\u001b[32m   1237\u001b[39m                     level=level,\n",
      "\u001b[32m~/Documents/Studium/Uni Heidelberg/3.-4. Semester/Bioinformatik/Data Analysis/topic01_team03/.venv/lib/python3.13/site-packages/tifffile/tifffile.py\u001b[39m in \u001b[36m?\u001b[39m\u001b[34m(self, key, series, level, squeeze, out, maxworkers, buffersize)\u001b[39m\n\u001b[32m   4534\u001b[39m         \u001b[38;5;28;01melif\u001b[39;00m len(pages) == \u001b[32m1\u001b[39m:\n\u001b[32m   4535\u001b[39m             page0 = pages[\u001b[32m0\u001b[39m]\n\u001b[32m   4536\u001b[39m             \u001b[38;5;28;01mif\u001b[39;00m page0 \u001b[38;5;28;01mis\u001b[39;00m \u001b[38;5;28;01mNone\u001b[39;00m:\n\u001b[32m   4537\u001b[39m                 \u001b[38;5;28;01mraise\u001b[39;00m ValueError(\u001b[33m'page is None'\u001b[39m)\n\u001b[32m-> \u001b[39m\u001b[32m4538\u001b[39m             result = page0.asarray(\n\u001b[32m   4539\u001b[39m                 out=out, maxworkers=maxworkers, buffersize=buffersize\n\u001b[32m   4540\u001b[39m             )\n\u001b[32m   4541\u001b[39m         \u001b[38;5;28;01melse\u001b[39;00m:\n",
      "\u001b[32m~/Documents/Studium/Uni Heidelberg/3.-4. Semester/Bioinformatik/Data Analysis/topic01_team03/.venv/lib/python3.13/site-packages/tifffile/tifffile.py\u001b[39m in \u001b[36m?\u001b[39m\u001b[34m(self, out, squeeze, lock, maxworkers, buffersize)\u001b[39m\n\u001b[32m   8877\u001b[39m                     ]\n\u001b[32m   8878\u001b[39m                 \u001b[38;5;66;03m# except IndexError:\u001b[39;00m\n\u001b[32m   8879\u001b[39m                 \u001b[38;5;66;03m#     pass  # corrupted file, for example, with too many strips\u001b[39;00m\n\u001b[32m   8880\u001b[39m \n\u001b[32m-> \u001b[39m\u001b[32m8881\u001b[39m             for _ in self.segments(\n\u001b[32m   8882\u001b[39m                 func=func,\n\u001b[32m   8883\u001b[39m                 lock=lock,\n\u001b[32m   8884\u001b[39m                 maxworkers=maxworkers,\n",
      "\u001b[32m~/Documents/Studium/Uni Heidelberg/3.-4. Semester/Bioinformatik/Data Analysis/topic01_team03/.venv/lib/python3.13/site-packages/tifffile/tifffile.py\u001b[39m in \u001b[36m?\u001b[39m\u001b[34m(self, lock, maxworkers, func, sort, buffersize, _fullsize)\u001b[39m\n\u001b[32m   8677\u001b[39m                 sort=sort,\n\u001b[32m   8678\u001b[39m                 buffersize=buffersize,\n\u001b[32m   8679\u001b[39m                 flat=\u001b[38;5;28;01mTrue\u001b[39;00m,\n\u001b[32m   8680\u001b[39m             ):\n\u001b[32m-> \u001b[39m\u001b[32m8681\u001b[39m                 \u001b[38;5;28;01myield\u001b[39;00m decode(segment)\n\u001b[32m   8682\u001b[39m         \u001b[38;5;28;01melse\u001b[39;00m:\n\u001b[32m   8683\u001b[39m             \u001b[38;5;66;03m# reduce memory overhead by processing chunks of up to\u001b[39;00m\n\u001b[32m   8684\u001b[39m             \u001b[38;5;66;03m# buffersize of segments because ThreadPoolExecutor.map is not\u001b[39;00m\n",
      "\u001b[32m~/Documents/Studium/Uni Heidelberg/3.-4. Semester/Bioinformatik/Data Analysis/topic01_team03/.venv/lib/python3.13/site-packages/tifffile/tifffile.py\u001b[39m in \u001b[36m?\u001b[39m\u001b[34m(args, decodeargs, decode)\u001b[39m\n\u001b[32m   8667\u001b[39m             \u001b[38;5;28;01mdef\u001b[39;00m decode(args, decodeargs=decodeargs, decode=keyframe.decode):\n\u001b[32m-> \u001b[39m\u001b[32m8668\u001b[39m                 \u001b[38;5;28;01mreturn\u001b[39;00m func(decode(*args, **decodeargs))\n",
      "\u001b[32m~/Documents/Studium/Uni Heidelberg/3.-4. Semester/Bioinformatik/Data Analysis/topic01_team03/.venv/lib/python3.13/site-packages/tifffile/tifffile.py\u001b[39m in \u001b[36m?\u001b[39m\u001b[34m(exc, *args, **kwargs)\u001b[39m\n\u001b[32m   8089\u001b[39m             \u001b[38;5;28;01mdef\u001b[39;00m decode_raise_compression(*args, exc=str(exc)[\u001b[32m1\u001b[39m:-\u001b[32m1\u001b[39m], **kwargs):\n\u001b[32m-> \u001b[39m\u001b[32m8090\u001b[39m                 \u001b[38;5;28;01mraise\u001b[39;00m ValueError(f'{exc}')\n",
      "\u001b[31mValueError\u001b[39m: <COMPRESSION.LZW: 5> requires the 'imagecodecs' package"
     ]
    }
   ],
   "source": [
    "import os\n",
    "import numpy as np\n",
    "import matplotlib.pyplot as plt\n",
    "\n",
    "from skimage import io, img_as_ubyte\n",
    "from skimage.filters import rank\n",
    "from skimage.morphology import disk\n",
    "from src.image_find import load_image_gray\n",
    "\n",
    "# 2) Bild laden (als Float [0,1]) und in uint8 (0–255) umwandeln:\n",
    "image =  load_image_gray(\"t75.tif\")\n",
    "image_u8   = img_as_ubyte(image)\n",
    "\n",
    "# 3) Lokalen Otsu‐Filter aus skimage.filters.rank importieren\n",
    "#    Dafür brauchst du 8-Bit-Bild UND einen strukturellen Element‐ („footprint“) Kreis.\n",
    "radius = 50  # halbe Fenstergröße ~ 7 → 15×15 Pixel-Fenster\n",
    "footprint = disk(radius)\n",
    "\n",
    "# 4) rank.otsu berechnet für **jeden Pixel** den Otsu-Schwellwert\n",
    "#    innerhalb des kreisförmigen Nachbarschaftsbereichs (footprint).\n",
    "t_local_rank = rank.otsu(image_u8, footprint)\n",
    "\n",
    "# 5) Erzeuge die Binärmaske: Werte > lokaler Threshold → 1; sonst 0\n",
    "binary_local_rank = image_u8 > t_local_rank\n",
    "\n",
    "# 6) Anzeigen\n",
    "fig, axes = plt.subplots(1, 2, figsize=(12, 4))\n",
    "\n",
    "axes[0].imshow(image_u8, cmap=\"gray\", vmin=0, vmax=255, interpolation=\"none\")\n",
    "axes[0].set_title(\"Original (uint8)\") \n",
    "axes[0].axis(\"off\")\n",
    "\n",
    "axes[1].imshow(binary_local_rank, cmap=\"gray\", interpolation=\"none\")\n",
    "axes[1].set_title(\"Binärmaske (lokaler Otsu)\")\n",
    "axes[1].axis(\"off\")\n",
    "\n",
    "plt.tight_layout()\n",
    "plt.show()"
   ]
  }
 ],
 "metadata": {
  "kernelspec": {
   "display_name": ".venv",
   "language": "python",
   "name": "python3"
  },
  "language_info": {
   "codemirror_mode": {
    "name": "ipython",
    "version": 3
   },
   "file_extension": ".py",
   "mimetype": "text/x-python",
   "name": "python",
   "nbconvert_exporter": "python",
   "pygments_lexer": "ipython3",
   "version": "3.13.3"
  }
 },
 "nbformat": 4,
 "nbformat_minor": 5
}
