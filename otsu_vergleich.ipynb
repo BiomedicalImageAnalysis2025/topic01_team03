{
 "cells": [
  {
   "cell_type": "code",
   "execution_count": 15,
   "id": "698e9dc8",
   "metadata": {},
   "outputs": [],
   "source": [
    "import os\n",
    "import sys\n",
    "from PIL import Image\n",
    "import numpy as np\n",
    "from skimage.filters import threshold_multiotsu, threshold_local\n",
    "import matplotlib.pyplot as plt"
   ]
  },
  {
   "cell_type": "code",
   "execution_count": 16,
   "id": "266db21b",
   "metadata": {},
   "outputs": [],
   "source": [
    "# Aktuelles Arbeitsverzeichnis als Projekt-Root\n",
    "project_root = os.getcwd()\n",
    "src_dir      = os.path.join(project_root, \"src\")\n",
    "\n",
    "# src-Verzeichnis ins Python-Modulverzeichnis aufnehmen\n",
    "if src_dir not in sys.path:\n",
    "    sys.path.insert(0, src_dir)\n",
    "\n",
    "# Bild laden und in ein Grauwert-Array umwandeln\n",
    "img_path = os.path.join(project_root, \"data-git\", \"N2DH-GOWT1\", \"img\", \"t01.tif\")\n",
    "pil_image = Image.open(img_path).convert(\"L\")\n",
    "img_array = np.array(pil_image)\n",
    "\n"
   ]
  },
  {
   "cell_type": "code",
   "execution_count": 17,
   "id": "348a8287",
   "metadata": {},
   "outputs": [],
   "source": [
    "# Otsu Global\n",
    "from otsu_global import apply_global_otsu\n",
    "\n",
    "otsu_global_result = apply_global_otsu(img_array)\n"
   ]
  },
  {
   "cell_type": "code",
   "execution_count": 18,
   "id": "2cd11978",
   "metadata": {},
   "outputs": [],
   "source": [
    "# Otsu Local\n",
    "\n",
    "block_size = 65\n",
    "local_thresh = threshold_local(img_array, block_size=block_size, offset=0)\n",
    "otsu_local_result = img_array > local_thresh  # dtype: bool"
   ]
  },
  {
   "cell_type": "code",
   "execution_count": 19,
   "id": "3c67036e",
   "metadata": {},
   "outputs": [],
   "source": [
    "# Otsu Multi \n",
    "\n",
    "thresholds = threshold_multiotsu(img_array, classes=3)\n",
    "multi_otsu_result = np.digitize(img_array, bins=thresholds)"
   ]
  },
  {
   "cell_type": "code",
   "execution_count": null,
   "id": "f0dd5da3",
   "metadata": {},
   "outputs": [],
   "source": [
    "fig, axes = plt.subplots(1, 4, figsize=(16, 4))\n",
    "axes[0].imshow(img_array, cmap='gray')\n",
    "axes[0].set_title(\"Original\")\n",
    "axes[1].imshow(otsu_global_result, cmap='gray')\n",
    "axes[1].set_title(\"Global Otsu\")\n",
    "axes[2].imshow(otsu_local_result, cmap='gray')\n",
    "axes[2].set_title(\"Local Otsu\")\n",
    "axes[3].imshow(multi_otsu_result, cmap='jet')\n",
    "axes[3].set_title(\"Multi-Otsu\")\n",
    "\n",
    "for ax in axes:\n",
    "    ax.axis('off')\n",
    "\n",
    "plt.tight_layout()\n",
    "plt.show()"
   ]
  },
  {
   "cell_type": "markdown",
   "id": "61288e23",
   "metadata": {},
   "source": [
    "Dice Score (F1): Misst die Überlappung zwischen Vorhersage und Ground Truth. [0–1]\n",
    "\n",
    "\n",
    "IoU (Jaccard Index): Intersection over Union. Etwas strenger als Dice. [0–1]"
   ]
  },
  {
   "cell_type": "code",
   "execution_count": 21,
   "id": "9ec2b101",
   "metadata": {},
   "outputs": [],
   "source": [
    "from Dice_Score import dice_score\n",
    "\n",
    "def iou_score(y_true: np.ndarray, y_pred: np.ndarray) -> float:\n",
    "    intersection = np.logical_and(y_true, y_pred).sum()\n",
    "    union = np.logical_or(y_true, y_pred).sum()\n",
    "    return intersection / (union + 1e-8)"
   ]
  },
  {
   "cell_type": "code",
   "execution_count": 22,
   "id": "ed83aa4c",
   "metadata": {},
   "outputs": [],
   "source": [
    "# Ground Truth laden\n",
    "gt_path = os.path.join(project_root, \"data-git\", \"N2DH-GOWT1\", \"gt\", \"man_seg01.tif\")\n",
    "gt_mask = np.array(Image.open(gt_path).convert(\"L\")) > 0  # binär"
   ]
  },
  {
   "cell_type": "code",
   "execution_count": null,
   "id": "ae9c856f",
   "metadata": {},
   "outputs": [],
   "source": [
    "methods = {\n",
    "    \"Global Otsu\": otsu_global_result,\n",
    "    \"Local Otsu\": otsu_local_result,\n",
    "    \"Multi-Otsu\": multi_otsu_result == 2  # Annahme: Klasse 2 = Zellen\n",
    "}\n",
    "\n",
    "for name, result in methods.items():\n",
    "    dice = dice_score(gt_mask, result)\n",
    "    iou = iou_score(gt_mask, result)\n",
    "    print(f\"{name}: Dice = {dice:.3f}, IoU = {iou:.3f}\")\n"
   ]
  },
  {
   "cell_type": "code",
   "execution_count": 24,
   "id": "2693d11c",
   "metadata": {},
   "outputs": [],
   "source": [
    "def best_matching_multiotsu_class(multi_result: np.ndarray, gt_mask: np.ndarray) -> np.ndarray:\n",
    "    best_score = -1\n",
    "    best_mask = None\n",
    "    for i in np.unique(multi_result):\n",
    "        mask = multi_result == i\n",
    "        dice = dice_score(gt_mask, mask)\n",
    "        if dice > best_score:\n",
    "            best_score = dice\n",
    "            best_mask = mask\n",
    "    return best_mask"
   ]
  },
  {
   "cell_type": "code",
   "execution_count": 25,
   "id": "98c80f2e",
   "metadata": {},
   "outputs": [],
   "source": [
    "multi_otsu_result = np.digitize(img_array, bins=threshold_multiotsu(img_array, classes=3))\n",
    "multi_otsu_best = best_matching_multiotsu_class(multi_otsu_result, gt_mask)\n"
   ]
  }
 ],
 "metadata": {
  "kernelspec": {
   "display_name": "Python 3",
   "language": "python",
   "name": "python3"
  },
  "language_info": {
   "codemirror_mode": {
    "name": "ipython",
    "version": 3
   },
   "file_extension": ".py",
   "mimetype": "text/x-python",
   "name": "python",
   "nbconvert_exporter": "python",
   "pygments_lexer": "ipython3",
   "version": "3.13.2"
  }
 },
 "nbformat": 4,
 "nbformat_minor": 5
}
