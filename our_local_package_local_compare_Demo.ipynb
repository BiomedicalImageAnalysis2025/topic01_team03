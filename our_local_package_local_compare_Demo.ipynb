{
 "cells": [
  {
   "cell_type": "code",
   "execution_count": 1,
   "id": "12209a2f",
   "metadata": {},
   "outputs": [],
   "source": [
    "import numpy as np\n",
    "import matplotlib.pyplot as plt\n",
    "from skimage import io, img_as_ubyte\n",
    "from skimage.filters import threshold_otsu, threshold_local\n",
    "from src.find_image import find_and_load_image\n",
    "from src.Otsu_Local import local_otsu\n",
    "\n",
    "\n",
    "def dice_score(mask, gt):\n",
    "    \"\"\"Berechnet den Dice-Koeffizienten zweier Bool-Arrays.\"\"\"\n",
    "    inter = np.logical_and(mask, gt).sum()\n",
    "    return 2 * inter / (mask.sum() + gt.sum())\n",
    "\n",
    "img = find_and_load_image(\"t79.tif\", as_gray=True)\n",
    "gt   = find_and_load_image(\"man_seg79.tif\",   as_gray=True) > 0\n",
    "\n",
    "mask_gt = gt > 0\n",
    "\n",
    "# 3) In uint8 (0–255) umwandeln für Otsu\n",
    "img_u8 = img_as_ubyte(img)\n",
    "\n"
   ]
  },
  {
   "cell_type": "code",
   "execution_count": 4,
   "id": "89421b1f",
   "metadata": {},
   "outputs": [
    {
     "name": "stdout",
     "output_type": "stream",
     "text": [
      "Processing row 1/700...\n",
      "Processing row 51/700...\n",
      "Processing row 101/700...\n",
      "Processing row 151/700...\n",
      "Processing row 201/700...\n",
      "Processing row 251/700...\n",
      "Processing row 301/700...\n",
      "Processing row 351/700...\n",
      "Processing row 401/700...\n",
      "Processing row 451/700...\n",
      "Processing row 501/700...\n",
      "Processing row 551/700...\n",
      "Processing row 601/700...\n",
      "Processing row 651/700...\n",
      "Processing row 700/700...\n",
      "OUR Dice Local Otsu: 0.7996\n"
     ]
    }
   ],
   "source": [
    "# Dice score with our Otsu local\n",
    "\n",
    "t_map_our = local_otsu(img_u8, radius=50)\n",
    "mask_local_our = img_u8 > t_map_our\n",
    "dice_local_our = dice_score(mask_local_our, mask_gt)\n",
    "print(f\"OUR Dice Local Otsu: {dice_local_our:.4f}\")"
   ]
  },
  {
   "cell_type": "code",
   "execution_count": 2,
   "id": "f822e53d",
   "metadata": {},
   "outputs": [
    {
     "name": "stdout",
     "output_type": "stream",
     "text": [
      "skimage Dice Local Otsu: 0.8776\n"
     ]
    }
   ],
   "source": [
    "# Dice score with skimage's local Otsu\n",
    "\n",
    "r          = 50\n",
    "block_size = 2 * r + 1\n",
    "t_local_P    = threshold_local(img_u8, block_size, method=\"gaussian\")\n",
    "mask_local_P = img_u8 > t_local_P\n",
    "dice_local_P = dice_score(mask_local_P, mask_gt)\n",
    "print(f\"skimage Dice Local Otsu: {dice_local_P:.4f}\")"
   ]
  },
  {
   "cell_type": "code",
   "execution_count": 4,
   "id": "cb291ccf",
   "metadata": {},
   "outputs": [
    {
     "name": "stdout",
     "output_type": "stream",
     "text": [
      "Our Fast Local Otsu: 0.7629\n"
     ]
    }
   ],
   "source": [
    "# Dice score with fast local Otsu implementation (similar to our otsu local)\n",
    "\n",
    "from src.Otsu_Local import local_otsu_package\n",
    "t_map_fast = local_otsu_package(img_u8, radius=50)\n",
    "mask_local_fast = img_u8 > t_map_fast\n",
    "dice_local_fast = dice_score(mask_local_fast, mask_gt)\n",
    "print(f\"Our Fast Local Otsu: {dice_local_fast:.4f}\")"
   ]
  }
 ],
 "metadata": {
  "kernelspec": {
   "display_name": ".venv",
   "language": "python",
   "name": "python3"
  },
  "language_info": {
   "codemirror_mode": {
    "name": "ipython",
    "version": 3
   },
   "file_extension": ".py",
   "mimetype": "text/x-python",
   "name": "python",
   "nbconvert_exporter": "python",
   "pygments_lexer": "ipython3",
   "version": "3.13.3"
  }
 },
 "nbformat": 4,
 "nbformat_minor": 5
}
