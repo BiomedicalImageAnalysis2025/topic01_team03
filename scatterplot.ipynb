{
 "cells": [
  {
   "cell_type": "code",
   "execution_count": null,
   "id": "ea522ed3",
   "metadata": {},
   "outputs": [],
   "source": [
    "import os\n",
    "import sys\n",
    "from PIL import Image\n",
    "import numpy as np\n",
    "import matplotlib.pyplot as plt\n",
    "from skimage.filters import threshold_otsu\n",
    "\n",
    "\n",
    "# Aktuelles Arbeitsverzeichnis als Projekt-Root\n",
    "project_root = os.getcwd()\n",
    "src_dir      = os.path.join(project_root, \"src\")\n",
    "\n",
    "# src-Verzeichnis ins Python-Modulverzeichnis aufnehmen\n",
    "if src_dir not in sys.path:\n",
    "    sys.path.insert(0, src_dir)\n",
    "\n",
    "from Dice_Score import dice_score\n",
    "\n",
    "\n",
    "# Beispiel-Listen (ersetze mit deinen eigenen Daten)\n",
    "images = [...]           # Liste von 2D-Numpy-Bildern\n",
    "ground_truths = [...]    # Liste von GT-Masken (gleiches Format)\n",
    "\n",
    "dice_ours = []\n",
    "dice_skimage = []\n",
    "\n",
    "for img, gt in zip(images, ground_truths):\n",
    "    # Unser Otsu\n",
    "    binary_ours = apply_global_otsu(img)\n",
    "\n",
    "    # Skimage Otsu\n",
    "    t = threshold_otsu(img)\n",
    "    binary_sk = img > t\n",
    "\n",
    "    # Dice Scores berechnen\n",
    "    dice_ours.append(dice_score(gt, binary_ours))\n",
    "    dice_skimage.append(dice_score(gt, binary_sk))\n",
    "\n",
    "# Scatterplot\n",
    "plt.figure(figsize=(6, 6))\n",
    "plt.scatter(dice_skimage, dice_ours, c='blue', alpha=0.7, label='Dice Scores')\n",
    "plt.plot([0, 1], [0, 1], 'r--', label='Ideal (Steigung = 1)')\n",
    "plt.xlabel('Skimage Otsu Dice Score')\n",
    "plt.ylabel('Unser Otsu Dice Score')\n",
    "plt.title('Dice Score Vergleich – Otsu Global')\n",
    "plt.legend()\n",
    "plt.grid(True)\n",
    "plt.tight_layout()\n",
    "plt.show()\n"
   ]
  }
 ],
 "metadata": {
  "language_info": {
   "name": "python"
  }
 },
 "nbformat": 4,
 "nbformat_minor": 5
}
